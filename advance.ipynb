# 1

# Specifically for the iPython Notebook environment for clearing output
from IPython.display import clear_output
import random

# Global variables
theBoard = [' '] * 10   # a list of empty spaces
available = [str(num) for num in range(0,10)] # a List Comprehension
players = [0,'X','O']   # note that players[1] == 'X' and players[-1] == 'O'

